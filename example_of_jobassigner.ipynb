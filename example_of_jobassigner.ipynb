{
 "cells": [
  {
   "cell_type": "markdown",
   "id": "1c43548b-42f5-4275-9e9d-debf7b920f1e",
   "metadata": {},
   "source": [
    "# 利用 JobAssigner 與 ThreadPoolExecutor， 以多執行緒方式執行 model predict"
   ]
  },
  {
   "cell_type": "code",
   "execution_count": 1,
   "id": "9f50e2ca-ad11-4860-b127-a5b8a5393bcc",
   "metadata": {},
   "outputs": [],
   "source": [
    "from threading_jobs import JobAssigner\n",
    "from torchvision.models.resnet import resnet18\n",
    "from torchvision.models.resnet import ResNet18_Weights \n",
    "from torchvision.datasets import CIFAR10\n",
    "import torch\n",
    "import torchvision.transforms as transforms\n",
    "import numpy as np\n",
    "from tqdm import tqdm\n",
    "from typing import Tuple\n",
    "from concurrent.futures import ThreadPoolExecutor, as_completed\n"
   ]
  },
  {
   "cell_type": "markdown",
   "id": "43aa06e2-20c1-4f7b-8faa-1e0c64b36307",
   "metadata": {},
   "source": [
    "#### 請在 8 張 GPU 以上的環境執行"
   ]
  },
  {
   "cell_type": "code",
   "execution_count": 2,
   "id": "f7f8a7df-73ab-4150-838c-3a34cbb1ab07",
   "metadata": {},
   "outputs": [],
   "source": [
    "assert torch.cuda.device_count() >= 8"
   ]
  },
  {
   "cell_type": "markdown",
   "id": "f82cd8ee-5b6e-4faf-a4e8-83ce63a33ae9",
   "metadata": {},
   "source": [
    "#### 下載 CIFAR-10 資料"
   ]
  },
  {
   "cell_type": "code",
   "execution_count": 3,
   "id": "fce27611-6574-4ece-bc51-ae1a49712189",
   "metadata": {},
   "outputs": [
    {
     "name": "stdout",
     "output_type": "stream",
     "text": [
      "Files already downloaded and verified\n"
     ]
    }
   ],
   "source": [
    "#download data\n",
    "_ = CIFAR10(\"CIFAR10/\", download=True, train=False, transform=transforms.ToTensor())"
   ]
  },
  {
   "cell_type": "markdown",
   "id": "b683f9cd-fc00-4e04-9e9a-ae422ccd5b0c",
   "metadata": {},
   "source": [
    "#### 建立 predict function 並使用 JobAssigner decorator\n",
    "* 注意我用 worker_names 定義了四個 worker，每個 worker 用的卡編號與數量都不同"
   ]
  },
  {
   "cell_type": "code",
   "execution_count": 4,
   "id": "d6187858-c161-47f7-8f61-098232fabdcd",
   "metadata": {},
   "outputs": [],
   "source": [
    "worker_names = [(1,2), (3,), (4,5,6), (7,)]\n",
    "\n",
    "@JobAssigner(worker_names, max_job_per_worker=2, worker_arg_name='device_ids', if_no_id='raise')\n",
    "def predict_one_batch(device_ids: Tuple[int]) -> float:\n",
    "    device = torch.device(f\"cuda:{device_ids[0]}\")  \n",
    "    model = resnet18(num_classes=10).to(device)\n",
    "    if len(device_ids) > 1:\n",
    "        # use DataParallel\n",
    "        model = torch.nn.DataParallel(model, device_ids=device_ids)        \n",
    "    test = CIFAR10(\"CIFAR10/\", download=False, train=False, transform=transforms.ToTensor())\n",
    "    dataloader = torch.utils.data.DataLoader(test, batch_size=128, shuffle=False)\n",
    "    x,y = dataloader.__iter__().__next__()\n",
    "    x,y = x.to(device), y.to(device)\n",
    "    pred = model(x)\n",
    "    acc = float(np.mean((torch.argmax(pred, 1) == y).cpu().numpy()))\n",
    "    return acc"
   ]
  },
  {
   "cell_type": "markdown",
   "id": "1754225e-d2ff-4444-b20f-682f1ecd2efd",
   "metadata": {},
   "source": [
    "#### ThreadPoolExecutor 執行的邏輯"
   ]
  },
  {
   "cell_type": "code",
   "execution_count": 5,
   "id": "53d2be6e-bdb6-4de8-8796-d2f528aa791b",
   "metadata": {},
   "outputs": [],
   "source": [
    "def run_job_in_threadpool(max_workers):\n",
    "    with ThreadPoolExecutor(max_workers=max_workers) as executor:\n",
    "        future_dict = dict()\n",
    "        result_dict = dict()\n",
    "        with tqdm(desc=\"threading_jobs\", total=12) as pbar:        \n",
    "            for index in range(12):\n",
    "                future = executor.submit(predict_one_batch)\n",
    "                future_dict[future] = index\n",
    "\n",
    "            for future in as_completed(future_dict):\n",
    "                index = future_dict[future]\n",
    "                result_dict[index] = future.result()\n",
    "                pbar.update()\n",
    "        return result_dict\n",
    "            \n",
    "            \n",
    "        \n"
   ]
  },
  {
   "cell_type": "markdown",
   "id": "cf02a9c9-8a08-4711-99ed-4821b7278219",
   "metadata": {},
   "source": [
    "#### 執行與結果"
   ]
  },
  {
   "cell_type": "code",
   "execution_count": 6,
   "id": "41955c4c-a084-487a-acd0-f81b283ec5aa",
   "metadata": {},
   "outputs": [
    {
     "name": "stderr",
     "output_type": "stream",
     "text": [
      "threading_jobs: 100%|█████████████████████████████████████████████████████████████████████████████| 12/12 [00:13<00:00,  1.16s/it]\n"
     ]
    },
    {
     "data": {
      "text/plain": [
       "{5: 0.0546875,\n",
       " 8: 0.0859375,\n",
       " 9: 0.0625,\n",
       " 1: 0.0703125,\n",
       " 3: 0.0390625,\n",
       " 7: 0.109375,\n",
       " 10: 0.1171875,\n",
       " 11: 0.1171875,\n",
       " 4: 0.0859375,\n",
       " 0: 0.1171875,\n",
       " 6: 0.0859375,\n",
       " 2: 0.109375}"
      ]
     },
     "execution_count": 6,
     "metadata": {},
     "output_type": "execute_result"
    }
   ],
   "source": [
    "result = run_job_in_threadpool(8)\n",
    "result"
   ]
  },
  {
   "cell_type": "markdown",
   "id": "cb994a14-afdf-48cd-bef7-0e94ec217db3",
   "metadata": {},
   "source": [
    "#### 因為我們設定 if_no_id='raise' 且 max_job_per_worker=2， 等於一次最多只能執行八個 job，所以下面會直接 raise"
   ]
  },
  {
   "cell_type": "code",
   "execution_count": 7,
   "id": "1e5c2e67-b045-4f3a-a978-669d137bfa16",
   "metadata": {},
   "outputs": [
    {
     "name": "stderr",
     "output_type": "stream",
     "text": [
      "threading_jobs:   0%|                                                                                      | 0/12 [00:00<?, ?it/s]\n"
     ]
    },
    {
     "name": "stdout",
     "output_type": "stream",
     "text": [
      "error raised!\n"
     ]
    }
   ],
   "source": [
    "# since we set if_no_id='raise' in JobAssigner, this will raise:\n",
    "try:\n",
    "    _ = run_job_in_threadpool(12)\n",
    "except ValueError:\n",
    "    print('error raised!')\n",
    "else:\n",
    "    raise Exception('error is not raised!')"
   ]
  },
  {
   "cell_type": "code",
   "execution_count": null,
   "id": "6bc53d54-3fc5-4e90-a5fd-4db944af5649",
   "metadata": {},
   "outputs": [],
   "source": []
  }
 ],
 "metadata": {
  "kernelspec": {
   "display_name": "Python 3 (ipykernel)",
   "language": "python",
   "name": "python3"
  },
  "language_info": {
   "codemirror_mode": {
    "name": "ipython",
    "version": 3
   },
   "file_extension": ".py",
   "mimetype": "text/x-python",
   "name": "python",
   "nbconvert_exporter": "python",
   "pygments_lexer": "ipython3",
   "version": "3.7.10"
  }
 },
 "nbformat": 4,
 "nbformat_minor": 5
}
